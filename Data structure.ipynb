{
 "cells": [
  {
   "cell_type": "raw",
   "id": "4ffcb5ef-85f9-4b51-a09b-b47e426419c6",
   "metadata": {},
   "source": [
    "Q1. How do you comment code in Python? What are the different types of comments?"
   ]
  },
  {
   "cell_type": "raw",
   "id": "9218bdb7-cbba-4cc4-858e-7b62c52807bb",
   "metadata": {},
   "source": [
    "# In python comments are used to explain the code and provide additional information without affecting the program's execution\n",
    "\n",
    "There are two types of comments \n",
    "1) :- single line comments\n",
    "2) :- multi line comments(docstirng)\n"
   ]
  },
  {
   "cell_type": "code",
   "execution_count": 1,
   "id": "535b1913-8c7c-4491-8e0d-e989940a09c9",
   "metadata": {},
   "outputs": [],
   "source": [
    "#Single-line comments:- These comments are used for a single line of code and start with the \"#\" symbol.\n",
    "#example\n",
    "\n",
    "#single-line comments\n",
    "x=10 #x variable contains integer 10"
   ]
  },
  {
   "cell_type": "raw",
   "id": "10b303c1-5efb-4e80-8a1d-5cde71632e51",
   "metadata": {},
   "source": [
    "#2) multi line commnets as you can understand this by just reading his heading. multi line comments can span multiple line and are typically used to documents , functions,classes.It can be written as using triple quotes(''' or \"\"\")at the both end of line."
   ]
  },
  {
   "cell_type": "code",
   "execution_count": 2,
   "id": "de93782b-03b1-4da3-9475-c58fdc130a92",
   "metadata": {},
   "outputs": [],
   "source": [
    "'''\n",
    "This is a multi-line comment (docstring)\n",
    "hi sir,this course is amazing i am really enjoying this course hope i will get success one day.\n",
    "'''\n",
    "def my_function():\n",
    "    \"\"\"\n",
    "    This is another way to write a multi-line comment (docstring).\n",
    "    It provides a description of the function's purpose and usage.\n",
    "    \"\"\""
   ]
  },
  {
   "cell_type": "raw",
   "id": "d0fdc309-59c2-42a4-9380-644e78b732bb",
   "metadata": {},
   "source": [
    "Q2. What are variables in Python? How do you declare and assign values to variables?"
   ]
  },
  {
   "cell_type": "raw",
   "id": "3ef945dc-f31f-45a7-9444-0a522b989f2c",
   "metadata": {},
   "source": [
    "In python variables are like containers we can store anything in it. the best example of variable are in our home like our mom store dals,rice,sugar etc in container(box) and label them with name.varaibles is just like that."
   ]
  },
  {
   "cell_type": "code",
   "execution_count": 5,
   "id": "fc1c94e2-4168-435c-be7f-c5b6e48a3ad4",
   "metadata": {},
   "outputs": [],
   "source": [
    "# To declare and assign values to varaibles in python we can simply use variable name followed by \" = \"sign and  the value you want to assign\n",
    "    \n",
    "  #example\n",
    "\n",
    "x=\" i am\"\n",
    "z=\"data scientist\""
   ]
  },
  {
   "cell_type": "code",
   "execution_count": 4,
   "id": "9cf7af60-3d22-41f9-a26f-b6428eaab722",
   "metadata": {},
   "outputs": [
    {
     "data": {
      "text/plain": [
       "(' i am', 'data scientist')"
      ]
     },
     "execution_count": 4,
     "metadata": {},
     "output_type": "execute_result"
    }
   ],
   "source": [
    "x, z"
   ]
  },
  {
   "cell_type": "raw",
   "id": "4864a161-9753-4a9e-96c2-55fd231dfa9c",
   "metadata": {},
   "source": [
    "Q3. How do you convert one data type to another in Python?"
   ]
  },
  {
   "cell_type": "raw",
   "id": "a002e4eb-dcc0-4988-b7ad-aa438973f7ac",
   "metadata": {},
   "source": [
    "you can convert one data type to another using type conversion functions or constructors."
   ]
  },
  {
   "cell_type": "code",
   "execution_count": 6,
   "id": "8d8d66be-2fcf-429b-a5a8-7f4535749b67",
   "metadata": {},
   "outputs": [
    {
     "data": {
      "text/plain": [
       "str"
      ]
     },
     "execution_count": 6,
     "metadata": {},
     "output_type": "execute_result"
    }
   ],
   "source": [
    "#i am using one built fuction here called int( )\n",
    "x =\" 23\"# the variable x here is string wait i will show you\n",
    "    \n",
    "type(x)"
   ]
  },
  {
   "cell_type": "code",
   "execution_count": 7,
   "id": "da47024e-7947-49b2-899d-da1e3f2787dd",
   "metadata": {},
   "outputs": [
    {
     "data": {
      "text/plain": [
       "' 23'"
      ]
     },
     "execution_count": 7,
     "metadata": {},
     "output_type": "execute_result"
    }
   ],
   "source": [
    "#and if you want convert it into a integer we will simply use int() funtion\n",
    "num_int=int(x)\n",
    "x"
   ]
  },
  {
   "cell_type": "code",
   "execution_count": 8,
   "id": "773e3659-d01c-4940-9032-5ea3fdcedbb9",
   "metadata": {},
   "outputs": [
    {
     "data": {
      "text/plain": [
       "int"
      ]
     },
     "execution_count": 8,
     "metadata": {},
     "output_type": "execute_result"
    }
   ],
   "source": [
    "type(num_int)\n",
    "#as you can i changed the type of variable to int"
   ]
  },
  {
   "cell_type": "raw",
   "id": "1b2a459e-aede-419b-a538-9b895cc67f6f",
   "metadata": {},
   "source": [
    "Q4. How do you write and execute a Python script from the command line?"
   ]
  },
  {
   "cell_type": "raw",
   "id": "f6f086b6-b0a9-4d10-8817-7b6614bf4e8e",
   "metadata": {},
   "source": [
    "step1 : Create the Python Script\n",
    "Open a text editor like vs code and write your python code and save the file with a .py extension.\n",
    "for ex you created a script named \"my_course.py\"\n",
    "\n",
    "print(\"Hello, World!\")\n",
    "x = 5 + 3\n",
    "print(\"The result is:\", x)\n",
    "\n",
    "\n",
    "Step 2: Open Command Prompt (Windows)\n",
    "\n",
    "Open the Command Prompt (on Windows). Navigate to the directory where you saved the Python script using the cd command (change directory).\n",
    "\n",
    "cd Documents\n",
    "\n",
    "Step 3: Run the Python Script\n",
    "\n",
    "To execute the Python script, use the python command followed by the script's filename.\n",
    "\n",
    "python my_course.py\n",
    "\n",
    "The script will be executed, and you should see the output in the terminal:\n",
    "\n",
    "Hello, World!\n",
    "The result is: 8"
   ]
  },
  {
   "cell_type": "raw",
   "id": "c7ed8347-52d4-4007-ae23-460482b05a97",
   "metadata": {},
   "source": [
    "Q5. Given a list my_list = [1, 2, 3, 4, 5], write the code to slice the list and obtain the sub-list [2, 3]."
   ]
  },
  {
   "cell_type": "code",
   "execution_count": 9,
   "id": "ca10307c-1594-4b6b-9a11-18358219d3d9",
   "metadata": {},
   "outputs": [
    {
     "data": {
      "text/plain": [
       "[2, 3]"
      ]
     },
     "execution_count": 9,
     "metadata": {},
     "output_type": "execute_result"
    }
   ],
   "source": [
    "my_list=[1, 2, 3, 4, 5]\n",
    "my_list\n",
    "\n",
    "sub_list=(my_list[1:3])\n",
    "sub_list"
   ]
  },
  {
   "cell_type": "raw",
   "id": "df3cb267-64c7-45ca-8e5e-fa2fcbcee69f",
   "metadata": {},
   "source": [
    "Q6. What is a complex number in mathematics, and how is it represented in Python?"
   ]
  },
  {
   "cell_type": "raw",
   "id": "bf61f515-f391-416f-9ed4-9290c04f2b0c",
   "metadata": {},
   "source": [
    "In mathematics, a complex number is a number that comprises both a real part and an imaginary part. It is represented in the form \"a + bi,\" where \"a\" is the real part, \"b\" is the imaginary part, and \"i\" is the imaginary unit (defined as the square root of -1). The real part represents the traditional real number line, while the imaginary part extends the concept into a perpendicular direction."
   ]
  },
  {
   "cell_type": "raw",
   "id": "7263d8fe-2f02-47ad-9e07-72aa89fb6c4e",
   "metadata": {},
   "source": [
    "#Here are a few examples of creating complex numbers in Python:\n",
    "\n",
    "#Using complex() function:\n",
    "\n",
    "b=complex(3, 4)\n",
    "print(b)"
   ]
  },
  {
   "cell_type": "raw",
   "id": "71121abd-912d-4551-85da-b98a6cbd3896",
   "metadata": {},
   "source": [
    "Q7. What is the correct way to declare a variable named age and assign the value 25 to it?"
   ]
  },
  {
   "cell_type": "code",
   "execution_count": 11,
   "id": "ca43a456-7a07-40e0-84a0-536c6c4540b4",
   "metadata": {},
   "outputs": [],
   "source": [
    "# yaa it's simple\n",
    "#correct way to declare a variable named age and assign the value 25 to it this.\n",
    "\n",
    "age=25"
   ]
  },
  {
   "cell_type": "raw",
   "id": "62b65c84-0cc0-420c-a4ea-c96f781c5dd7",
   "metadata": {},
   "source": [
    "Q8. Declare a variable named price and assign the value 9.99 to it. What data type does this variable\n",
    "belong to?"
   ]
  },
  {
   "cell_type": "code",
   "execution_count": 13,
   "id": "ef8640cb-f1bb-41e6-a98a-060f39153fdf",
   "metadata": {},
   "outputs": [
    {
     "name": "stdout",
     "output_type": "stream",
     "text": [
      "<class 'float'>\n"
     ]
    }
   ],
   "source": [
    "price=9.99\n",
    "print(type(price))\n",
    "#this variable belongs to float data type."
   ]
  },
  {
   "cell_type": "raw",
   "id": "d5116483-f078-4575-a715-ee24fc58db94",
   "metadata": {},
   "source": [
    "Q9. Create a variable named name and assign your full name to it as a string. How would you print the\n",
    "value of this variable?"
   ]
  },
  {
   "cell_type": "code",
   "execution_count": 14,
   "id": "4f19f6db-1824-494a-b63c-6654406a1993",
   "metadata": {},
   "outputs": [
    {
     "name": "stdout",
     "output_type": "stream",
     "text": [
      "Mukesh patil\n"
     ]
    }
   ],
   "source": [
    "name=\"Mukesh patil\"\n",
    "print(name)"
   ]
  },
  {
   "cell_type": "raw",
   "id": "2299cc87-c1f6-49c7-93df-ec06755f51c6",
   "metadata": {},
   "source": [
    "Q10. Given the string \"Hello, World!\", extract the substring \"World\"."
   ]
  },
  {
   "cell_type": "code",
   "execution_count": 15,
   "id": "ad199bbf-cfa3-459d-aee4-484bf0ffd161",
   "metadata": {},
   "outputs": [
    {
     "data": {
      "text/plain": [
       "'World'"
      ]
     },
     "execution_count": 15,
     "metadata": {},
     "output_type": "execute_result"
    }
   ],
   "source": [
    "str=\"Hello World\"\n",
    "ext=str[6:11]\n",
    "ext"
   ]
  },
  {
   "cell_type": "code",
   "execution_count": null,
   "id": "8fcd6d3b-74f4-4a15-84c1-dfc46dfb6fb7",
   "metadata": {},
   "outputs": [],
   "source": []
  }
 ],
 "metadata": {
  "kernelspec": {
   "display_name": "Python 3 (ipykernel)",
   "language": "python",
   "name": "python3"
  },
  "language_info": {
   "codemirror_mode": {
    "name": "ipython",
    "version": 3
   },
   "file_extension": ".py",
   "mimetype": "text/x-python",
   "name": "python",
   "nbconvert_exporter": "python",
   "pygments_lexer": "ipython3",
   "version": "3.10.8"
  }
 },
 "nbformat": 4,
 "nbformat_minor": 5
}
